{
 "cells": [
  {
   "cell_type": "code",
   "execution_count": null,
   "id": "09591c3e-93b0-4e5a-aeda-cc67c7d1508e",
   "metadata": {},
   "outputs": [],
   "source": [
    "# netCDF files\n",
    "import xarray as xr\n",
    "import numpy as np\n",
    "import os\n",
    "\n",
    "folder_path = r\"C:\\Users\\zscho\\OneDrive\\Documents\\Capstone\\Weather\"\n",
    "year = 2015\n",
    "\n",
    "nc_files = [f for f in os.listdir(folder_path) if f.startswith(\"Weather_data_\") and f.endswith(f\"_{year}.nc\")]\n",
    "print(f\"Found {len(nc_files)} NetCDF files\")\n"
   ]
  },
  {
   "cell_type": "code",
   "execution_count": null,
   "id": "ba35e4d9-91d8-40b7-816e-a684b28a289a",
   "metadata": {},
   "outputs": [],
   "source": [
    "# file structure\n",
    "for file in nc_files:\n",
    "    ds = xr.open_dataset(os.path.join(folder_path, file))\n",
    "    print(f\"{file}: {dict(ds.dims)}\")\n",
    "    ds.close()"
   ]
  },
  {
   "cell_type": "code",
   "execution_count": null,
   "id": "7d29c57f-da77-4b6e-8ae4-fdff687d0006",
   "metadata": {},
   "outputs": [],
   "source": [
    "# variable inspection\n",
    "for file in nc_files:\n",
    "    ds = xr.open_dataset(os.path.join(folder_path, file))\n",
    "    for var in ds.data_vars:\n",
    "        data = ds[var]\n",
    "        print(f\"{file} - {var}: shape {data.shape}, min {data.min().values:.3f}, max {data.max().values:.3f}\")\n",
    "    ds.close()"
   ]
  },
  {
   "cell_type": "code",
   "execution_count": null,
   "id": "ce2d0d57-8d08-4d44-b75c-240e43cb4952",
   "metadata": {},
   "outputs": [],
   "source": [
    "# coordinate ranges\n",
    "for file in nc_files:\n",
    "    ds = xr.open_dataset(os.path.join(folder_path, file))\n",
    "    \n",
    "    if 'lat' in ds.coords:\n",
    "        lat_min, lat_max = ds.lat.min().values, ds.lat.max().values\n",
    "        print(f\"{file} - lat: {lat_min:.3f} to {lat_max:.3f}\")\n",
    "    \n",
    "    if 'lon' in ds.coords:\n",
    "        lon_min, lon_max = ds.lon.min().values, ds.lon.max().values\n",
    "        print(f\"{file} - lon: {lon_min:.3f} to {lon_max:.3f}\")\n",
    "    \n",
    "    if 'day' in ds.coords:\n",
    "        day_min, day_max = ds.day.min().values, ds.day.max().values\n",
    "        print(f\"{file} - days: {day_min} to {day_max} ({len(ds.day)} total)\")\n",
    "    \n",
    "    ds.close()"
   ]
  },
  {
   "cell_type": "code",
   "execution_count": null,
   "id": "50d13c89-1847-424d-b52d-ecec8c1a878b",
   "metadata": {},
   "outputs": [],
   "source": [
    "# missing data\n",
    "for file in nc_files:\n",
    "    ds = xr.open_dataset(os.path.join(folder_path, file))\n",
    "    for var in ds.data_vars:\n",
    "        nan_count = np.isnan(ds[var].values).sum()\n",
    "        if nan_count > 0:\n",
    "            total_values = ds[var].size\n",
    "            print(f\"{file} - {var}: {nan_count}/{total_values} missing values\")\n",
    "    ds.close()"
   ]
  },
  {
   "cell_type": "code",
   "execution_count": null,
   "id": "9361d809-24d8-4cd2-a3fd-c1d5da1a2ef9",
   "metadata": {},
   "outputs": [],
   "source": [
    "# file sizes\n",
    "for file in nc_files:\n",
    "    file_path = os.path.join(folder_path, file)\n",
    "    size_mb = os.path.getsize(file_path) / (1024**2)\n",
    "    print(f\"{file}: {size_mb:.1f} MB\")"
   ]
  },
  {
   "cell_type": "code",
   "execution_count": null,
   "id": "8f0d9520-9004-4f75-beed-dad028147b31",
   "metadata": {},
   "outputs": [],
   "source": [
    "# checking mem reqs\n",
    "for file in nc_files:\n",
    "    ds = xr.open_dataset(os.path.join(folder_path, file))\n",
    "    total_bytes = sum(ds[var].nbytes for var in ds.data_vars)\n",
    "    print(f\"{file}: {total_bytes / (1024**3):.2f} GB in memory\")\n",
    "    ds.close()"
   ]
  },
  {
   "cell_type": "code",
   "execution_count": null,
   "id": "7dfd47c7-640a-45f0-a759-2154c53b804c",
   "metadata": {},
   "outputs": [],
   "source": [
    "# data type\n",
    "for file in nc_files:\n",
    "    ds = xr.open_dataset(os.path.join(folder_path, file))\n",
    "    for var in ds.data_vars:\n",
    "        print(f\"{file} - {var}: {ds[var].dtype}\")\n",
    "    ds.close()"
   ]
  },
  {
   "cell_type": "code",
   "execution_count": null,
   "id": "25b50296-6a3a-4a2f-9614-ec58bfc704d3",
   "metadata": {},
   "outputs": [],
   "source": [
    "# samp values\n",
    "sample_file = nc_files[0]\n",
    "ds = xr.open_dataset(os.path.join(folder_path, sample_file))\n",
    "subset = ds.isel(lat=0, lon=0, day=slice(0, 5))\n",
    "for var in subset.data_vars:\n",
    "    print(f\"{var}: {subset[var].values}\")\n",
    "ds.close()"
   ]
  }
 ],
 "metadata": {
  "kernelspec": {
   "display_name": "Python 3 (ipykernel)",
   "language": "python",
   "name": "python3"
  },
  "language_info": {
   "codemirror_mode": {
    "name": "ipython",
    "version": 3
   },
   "file_extension": ".py",
   "mimetype": "text/x-python",
   "name": "python",
   "nbconvert_exporter": "python",
   "pygments_lexer": "ipython3",
   "version": "3.12.4"
  }
 },
 "nbformat": 4,
 "nbformat_minor": 5
}
