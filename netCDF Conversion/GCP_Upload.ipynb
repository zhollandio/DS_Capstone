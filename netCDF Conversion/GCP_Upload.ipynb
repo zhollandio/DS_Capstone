{
 "cells": [
  {
   "cell_type": "code",
   "execution_count": null,
   "id": "49c42d14-31c8-4b13-b493-43244f97ccb5",
   "metadata": {},
   "outputs": [],
   "source": [
    "from google.colab import auth\n",
    "auth.authenticate_user()"
   ]
  },
  {
   "cell_type": "code",
   "execution_count": null,
   "id": "a1a28f6b-ab3b-46e8-8c20-c1d9739fdbb0",
   "metadata": {},
   "outputs": [],
   "source": [
    "import os\n",
    "from google.cloud import storage\n",
    "\n",
    "# config, youll have to change local to yours\n",
    "project_id = 'code-for-planet'\n",
    "bucket_name = 'data_housee'\n",
    "local_folder = r\"C:\\Users\\zscho\\OneDrive\\Documents\\Capstone\\Weather\"\n",
    "\n",
    "# inir\n",
    "client = storage.Client(project=project_id)\n",
    "bucket = client.bucket(bucket_name)\n",
    "\n",
    "# year to upload\n",
    "year = 2015  \n",
    "\n",
    "for filename in os.listdir(local_folder):\n",
    "    if filename.endswith('.parquet') and f\"_{year}.parquet\" in filename:\n",
    "        local_path = os.path.join(local_folder, filename)\n",
    "        blob = bucket.blob(f\"weather_data/{filename}\")\n",
    "        blob.upload_from_filename(local_path)\n",
    "        print(f\"Uploaded: {filename}\")\n",
    "\n",
    "print(f\"All {year} parquet files uploaded successfully\")"
   ]
  }
 ],
 "metadata": {
  "kernelspec": {
   "display_name": "Python (base)",
   "language": "python",
   "name": "base"
  },
  "language_info": {
   "codemirror_mode": {
    "name": "ipython",
    "version": 3
   },
   "file_extension": ".py",
   "mimetype": "text/x-python",
   "name": "python",
   "nbconvert_exporter": "python",
   "pygments_lexer": "ipython3",
   "version": "3.12.4"
  }
 },
 "nbformat": 4,
 "nbformat_minor": 5
}
